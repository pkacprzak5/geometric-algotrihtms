{
 "cells": [
  {
   "cell_type": "code",
   "execution_count": 2,
   "id": "initial_id",
   "metadata": {
    "ExecuteTime": {
     "end_time": "2024-11-16T18:46:39.163084374Z",
     "start_time": "2024-11-16T18:46:38.655154623Z"
    }
   },
   "outputs": [],
   "source": [
    "import random\n",
    "import numpy as np\n",
    "import matplotlib.pyplot as plt"
   ]
  },
  {
   "cell_type": "code",
   "execution_count": 3,
   "id": "87dcb54341764044",
   "metadata": {
    "collapsed": false,
    "ExecuteTime": {
     "end_time": "2024-11-16T18:46:39.163516676Z",
     "start_time": "2024-11-16T18:46:39.158172129Z"
    }
   },
   "outputs": [],
   "source": [
    "np.random.seed(42)\n",
    "def points_arand(num_points, min_p=-100, max_p=100):\n",
    "    return np.random.uniform(min_p, max_p, size=(num_points, 2))"
   ]
  },
  {
   "cell_type": "code",
   "execution_count": 4,
   "id": "ddd37fbf9bc0d4f0",
   "metadata": {
    "collapsed": false,
    "ExecuteTime": {
     "end_time": "2024-11-16T18:46:39.163882777Z",
     "start_time": "2024-11-16T18:46:39.159105041Z"
    }
   },
   "outputs": [],
   "source": [
    "\n",
    "def points_bcircle(num_points, R=50, center=(0,0)):\n",
    "    angles = np.random.uniform(0, 2 * np.pi, num_points)\n",
    "    points_b = np.array([\n",
    "        [center[0] + R * np.cos(angle), center[1] + R * np.sin(angle)]\n",
    "        for angle in angles\n",
    "    ])\n",
    "    return points_b"
   ]
  },
  {
   "cell_type": "code",
   "execution_count": 5,
   "id": "7694cba504b9c21c",
   "metadata": {
    "collapsed": false,
    "ExecuteTime": {
     "end_time": "2024-11-16T18:46:39.164122528Z",
     "start_time": "2024-11-16T18:46:39.160983426Z"
    }
   },
   "outputs": [],
   "source": [
    "def points_crect(num_points, vertices = [(-100, 100), (-100,-100), (100,-100), (100,100)]):\n",
    "\n",
    "    random.seed(42)\n",
    "    \n",
    "    def random_point_on_rectangle():\n",
    "        side = random.choice(['top', 'bottom', 'left', 'right'])\n",
    "        if side == 'top':\n",
    "            return np.array([random.uniform(-10, 10), \n",
    "                             max(vertices[i][1] for i in range(len(vertices)))])\n",
    "        elif side == 'bottom':\n",
    "            return np.array([random.uniform(-10, 10), \n",
    "                             min(vertices[i][1] for i in range(len(vertices)))])\n",
    "        elif side == 'left':\n",
    "            return np.array([min(vertices[i][0] for i in range(len(vertices))), \n",
    "                             random.uniform(-10, 10)])\n",
    "        else:\n",
    "            return np.array([max(vertices[i][0] for i in range(len(vertices))), \n",
    "                             random.uniform(-10, 10)])\n",
    "    \n",
    "    points_c = np.array([random_point_on_rectangle() for _ in range(num_points)])\n",
    "    return points_c"
   ]
  },
  {
   "cell_type": "code",
   "execution_count": 6,
   "id": "317efad9e8c50ede",
   "metadata": {
    "collapsed": false,
    "ExecuteTime": {
     "end_time": "2024-11-16T18:46:39.164366580Z",
     "start_time": "2024-11-16T18:46:39.161457885Z"
    }
   },
   "outputs": [],
   "source": [
    "def points_diagsq(num_points, vertices = [(0, 100), (0,0), (100,0), (100,100)]):\n",
    "\n",
    "    points_on_axis = (num_points * 5) // 9\n",
    "    points_on_diagonal = num_points - points_on_axis\n",
    "    \n",
    "    def random_point_on_axis_side(side):\n",
    "        if side == 'bottom':\n",
    "            return np.array([random.uniform(0, 10), \n",
    "                             min(vertices[i][1] for i in range(len(vertices)))])\n",
    "        elif side == 'left':\n",
    "            return np.array([min(vertices[i][0] for i in range(len(vertices))), \n",
    "                             random.uniform(0, 10)])\n",
    "    \n",
    "    def random_point_on_diagonal(diagonal):\n",
    "        t = random.uniform(0, 1)\n",
    "        if diagonal == 'main':\n",
    "            return np.array([t * max(vertices[i][1] for i in range(len(vertices))), t * 10])\n",
    "        elif diagonal == 'secondary':\n",
    "            return np.array([t * max(vertices[i][1] for i in range(len(vertices))), \n",
    "                             max(vertices[i][1] for i in range(len(vertices)))\n",
    "                             - t * max(vertices[i][1] for i in range(len(vertices)))])\n",
    "    \n",
    "    points_d = []\n",
    "    points_d += [random_point_on_axis_side('bottom') for _ in range(points_on_axis)]\n",
    "    points_d += [random_point_on_axis_side('left') for _ in range(points_on_axis)]\n",
    "    points_d += [random_point_on_diagonal('main') for _ in range(points_on_diagonal)]\n",
    "    points_d += [random_point_on_diagonal('secondary') for _ in range(points_on_diagonal)]\n",
    "    points_d += vertices\n",
    "    points_d = np.array(points_d)\n",
    "    return points_d"
   ]
  },
  {
   "cell_type": "code",
   "execution_count": 7,
   "id": "f2a19e7543ce3307",
   "metadata": {
    "collapsed": false,
    "ExecuteTime": {
     "end_time": "2024-11-16T18:46:39.164578212Z",
     "start_time": "2024-11-16T18:46:39.161833301Z"
    }
   },
   "outputs": [],
   "source": [
    "points_a = np.float64(points_arand(100, -100.0, 100.0,))\n",
    "points_b = np.float64(points_bcircle(100, 10, (0, 0)))\n",
    "points_c = np.float64(points_crect(100, [(-10, 10), (-10,-10), (10,-10), (10,10)]))\n",
    "points_d = np.float64(points_diagsq(45, [(0, 0), (10, 0), (10, 10), (0, 10)]))"
   ]
  },
  {
   "cell_type": "code",
   "execution_count": 8,
   "id": "36c3f2d1dcc8f5a8",
   "metadata": {
    "collapsed": false,
    "ExecuteTime": {
     "end_time": "2024-11-16T18:46:39.164804538Z",
     "start_time": "2024-11-16T18:46:39.162803104Z"
    }
   },
   "outputs": [],
   "source": [
    "def plot_points(points_list, labels, title):\n",
    "    num_plots = len(points_list)\n",
    "    num_cols = 2\n",
    "    num_rows = (num_plots + num_cols - 1) // num_cols\n",
    "    \n",
    "    fig, axes = plt.subplots(num_rows, num_cols, figsize=(6 * num_cols, 6 * num_rows))\n",
    "    \n",
    "    axes = axes.flatten() if num_rows > 1 else [axes]\n",
    "    \n",
    "    for i, (points, label) in enumerate(zip(points_list, labels)):\n",
    "        axes[i].scatter(points[:, 0], points[:, 1], s=10, c='blue', label=label)\n",
    "        axes[i].set_title(label)\n",
    "        axes[i].set_xlabel('X')\n",
    "        axes[i].set_ylabel('Y')\n",
    "        axes[i].legend()\n",
    "    \n",
    "    for j in range(num_plots, num_rows * num_cols):\n",
    "        fig.delaxes(axes[j])\n",
    "    \n",
    "    plt.suptitle(title, fontsize=16)\n",
    "    plt.tight_layout(rect=[0, 0.03, 1, 0.95])  # Adjust layout\n",
    "    plt.show()"
   ]
  },
  {
   "cell_type": "code",
   "execution_count": 9,
   "id": "897eb5f0fabaf8c6",
   "metadata": {
    "collapsed": false,
    "ExecuteTime": {
     "end_time": "2024-11-16T18:46:39.166158742Z",
     "start_time": "2024-11-16T18:46:39.163267822Z"
    }
   },
   "outputs": [],
   "source": [
    "labels = ['Punkty A', 'Punkty B', 'Punkty C', 'Punkty D']\n",
    "points_list = [points_a, points_b, points_c, points_d]"
   ]
  },
  {
   "cell_type": "code",
   "execution_count": 10,
   "id": "b724ef9dd7fbc437",
   "metadata": {
    "collapsed": false,
    "ExecuteTime": {
     "end_time": "2024-11-16T18:46:39.627048769Z",
     "start_time": "2024-11-16T18:46:39.163644920Z"
    }
   },
   "outputs": [
    {
     "data": {
      "text/plain": "<Figure size 1200x1200 with 4 Axes>",
      "image/png": "[encoded data removed]"
     },
     "metadata": {},
     "output_type": "display_data"
    }
   ],
   "source": [
    "plot_points(points_list, labels, title='Visualisation of points')"
   ]
  },
  {
   "cell_type": "code",
   "execution_count": 38,
   "id": "469c8f9d7a9bd00b",
   "metadata": {
    "collapsed": false,
    "ExecuteTime": {
     "end_time": "2024-11-16T18:53:19.525151648Z",
     "start_time": "2024-11-16T18:53:19.484517786Z"
    }
   },
   "outputs": [],
   "source": [
    "def angle(point_a, point_b):\n",
    "    x_a, y_a = point_a\n",
    "    x_b, y_b = point_b\n",
    "    angle = np.arctan2(y_b - y_a, x_b - x_a)\n",
    "    if angle < 0:\n",
    "        angle += 2 * np.pi\n",
    "    return np.degrees(angle)\n",
    "\n",
    "def dist(point_a, point_b):\n",
    "    return ((point_a[0]-point_b[0]) ** 2 + (point_a[1]-point_b[1]) ** 2) ** 0.5\n",
    "\n",
    "def is_on_left(point_a, point_t_1, point_t):\n",
    "    mat = np.array([np.hstack((point_t_1, 1)), \n",
    "                    np.hstack((point_t, 1)), \n",
    "                    np.hstack((point_a, 1))])\n",
    "    if np.linalg.det(mat) > 0:\n",
    "        return True\n",
    "    return False\n",
    "\n",
    "def graham_alg(points):\n",
    "    sa_points = []\n",
    "    min_point = np.float64([float('inf'), float('inf')])\n",
    "    for point in points:\n",
    "        if point[1] < min_point[1]:\n",
    "            min_point = point\n",
    "        elif point[1] == min_point[1] and point[0] < min_point[0]:\n",
    "            min_point = point\n",
    "    for point in points:\n",
    "        if point == min_point:\n",
    "            continue\n",
    "        sa_points.append((point, angle(min_point, point), dist(min_point, point)))\n",
    "    sa_points.sort(key= lambda x: (x[1], x[2]))\n",
    "    chk_points = []\n",
    "    for i in range(len(sa_points)-1):\n",
    "        if sa_points[i][1] != sa_points[i+1][1]:\n",
    "            chk_points.append(sa_points[i][0])\n",
    "    if len(sa_points) > 0 and sa_points[-1][1] != 0:\n",
    "        chk_points.append(sa_points[-1][0])\n",
    "    \n",
    "    \n",
    "    s = []\n",
    "    s.append(min_point)\n",
    "    if len(chk_points) > 0:\n",
    "        s.append(chk_points[0])\n",
    "    if len(chk_points) > 1:\n",
    "        s.append(chk_points[1])\n",
    "    \n",
    "    i = 2\n",
    "    while i < len(chk_points):\n",
    "        if is_on_left(chk_points[i], s[-2], s[-1]):\n",
    "            s.append(chk_points[i])\n",
    "            i += 1\n",
    "        else:\n",
    "            s.pop()\n",
    "    return s"
   ]
  },
  {
   "cell_type": "code",
   "execution_count": 39,
   "id": "836897dbe96a7d1b",
   "metadata": {
    "collapsed": false,
    "ExecuteTime": {
     "end_time": "2024-11-16T18:53:20.018905142Z",
     "start_time": "2024-11-16T18:53:20.014870287Z"
    }
   },
   "outputs": [],
   "source": [
    "def jarvis_alg(points):\n",
    "    \n",
    "    def dist_j(a,b, start):\n",
    "        return (a[0]-start[0])**2+(a[1]-start[1])**2-(b[0]-start[0])**2-(b[1]-start[1])**2\n",
    "\n",
    "    def orient(a, b, c):\n",
    "        det = (a[0]-c[0]) * (b[1]-c[1]) - (b[0]-c[0]) * (a[1]-c[1])\n",
    "        return det if det else dist_j(b,c,a)\n",
    "    \n",
    "    min_point = np.float64([float('inf'), float('inf')])\n",
    "    idx = -1\n",
    "    for i in range(len(points)):\n",
    "        if points[i][1] < min_point[1]:\n",
    "            min_point = points[i]\n",
    "            idx = i\n",
    "        elif points[i][1] == min_point[1] and points[i][0] < min_point[0]:\n",
    "            min_point = points[i]\n",
    "            idx = i\n",
    "    n = len(points)\n",
    "    s = []\n",
    "    i = idx\n",
    "    while True:\n",
    "        s.append(points[i])\n",
    "        k = (i+1) % n\n",
    "        for j in range(n):\n",
    "            if j == k:\n",
    "                continue\n",
    "            if orient(points[i], points[k], points[j]) < 0:\n",
    "                k = j\n",
    "        i = k\n",
    "        if i == idx:\n",
    "            break\n",
    "    return s"
   ]
  },
  {
   "cell_type": "markdown",
   "source": [
    "# TESTY\n",
    "\n",
    "Testy zostały skopiowane ze środowiska przygotowanego przez koło naukowe BIT. Pierwsze 4 testy to wg opisu testy poprawności, a więc dokładnie one poniżej są wykonane, najpierw dla algorytmu Grahama, następnie dla algorytmu Jarvisa."
   ],
   "metadata": {
    "collapsed": false
   },
   "id": "153ebd5299fb07e2"
  },
  {
   "cell_type": "code",
   "execution_count": 40,
   "outputs": [],
   "source": [
    "import os\n",
    "\n",
    "folder_path = 'testy'\n",
    "def run_test(alg):\n",
    "    test_files = sorted(os.listdir(folder_path)) \n",
    "    for i in range(1, len(test_files)//2 + 1):\n",
    "        in_file = os.path.join(folder_path, f\"test_2_1_{i}.in\")\n",
    "        out_file = os.path.join(folder_path, f\"test_2_1_{i}.out\")\n",
    "\n",
    "        with open(in_file, 'r') as f:\n",
    "            all_points = [\n",
    "                (float(line.split()[0]), float(line.split()[1])) \n",
    "                for line in f.readlines()\n",
    "            ]\n",
    "\n",
    "        with open(out_file, 'r') as f:\n",
    "            hull_points = [\n",
    "                (float(line.split()[0]), float(line.split()[1])) \n",
    "                for line in f.readlines()\n",
    "            ]\n",
    "\n",
    "        ans = alg(all_points)\n",
    "\n",
    "        if ans == hull_points:\n",
    "            print(f\"Test {i}: OK\")\n",
    "        else:\n",
    "            print(f\"Test {i}: WRONG\")\n",
    "            print(\"Expected:\", hull_points)\n",
    "            print(\"Got:\", ans)"
   ],
   "metadata": {
    "collapsed": false,
    "ExecuteTime": {
     "end_time": "2024-11-16T18:53:21.097571665Z",
     "start_time": "2024-11-16T18:53:21.081102467Z"
    }
   },
   "id": "e728e813ea8b3961"
  },
  {
   "cell_type": "code",
   "execution_count": 42,
   "outputs": [
    {
     "name": "stdout",
     "output_type": "stream",
     "text": [
      "Test 1: OK\n",
      "Test 2: OK\n",
      "Test 3: OK\n",
      "Test 4: OK\n"
     ]
    }
   ],
   "source": [
    "run_test(graham_alg)"
   ],
   "metadata": {
    "collapsed": false,
    "ExecuteTime": {
     "end_time": "2024-11-16T18:53:23.751466010Z",
     "start_time": "2024-11-16T18:53:23.741339547Z"
    }
   },
   "id": "57f65b19ae7fb34d"
  },
  {
   "cell_type": "code",
   "execution_count": 43,
   "outputs": [
    {
     "name": "stdout",
     "output_type": "stream",
     "text": [
      "Test 1: OK\n",
      "Test 2: OK\n",
      "Test 3: OK\n",
      "Test 4: OK\n"
     ]
    }
   ],
   "source": [
    "run_test(jarvis_alg)"
   ],
   "metadata": {
    "collapsed": false,
    "ExecuteTime": {
     "end_time": "2024-11-16T18:53:24.203019892Z",
     "start_time": "2024-11-16T18:53:24.197452768Z"
    }
   },
   "id": "3a76435d390c6a66"
  },
  {
   "cell_type": "code",
   "execution_count": null,
   "id": "4028d8a830dee8a5",
   "metadata": {
    "collapsed": false,
    "ExecuteTime": {
     "start_time": "2024-11-16T18:46:39.759188389Z"
    }
   },
   "outputs": [],
   "source": [
    "def plot_results(points_list, fn, labels, title):\n",
    "    num_plots = len(points_list)\n",
    "    num_cols = 2\n",
    "    num_rows = (num_plots + num_cols - 1) // num_cols\n",
    "    fig, axes = plt.subplots(num_rows, num_cols, figsize=(6 * num_cols, 6 * num_rows))\n",
    "    axes = axes.flatten() if num_rows > 1 else [axes]\n",
    "    for i, (points, label) in enumerate(zip(points_list, labels)):\n",
    "        axes[i].scatter(points[:, 0], points[:, 1], s=5, c='blue', label=label)\n",
    "        s = fn(points)\n",
    "        print(s)\n",
    "        s.append(s[0])\n",
    "        x_s, y_s = zip(*s)\n",
    "        axes[i].plot(x_s, y_s, 'ro-', label='Otoczka')\n",
    "        axes[i].set_title(label)\n",
    "        axes[i].set_xlabel('X')\n",
    "        axes[i].set_ylabel('Y')\n",
    "        axes[i].legend()\n",
    "    plt.suptitle(title, fontsize=16)\n",
    "    plt.tight_layout(rect=[0, 0.03, 1, 0.95])  # Adjust layout\n",
    "    plt.show()"
   ]
  },
  {
   "cell_type": "code",
   "execution_count": null,
   "id": "54f47ac0797ef6f6",
   "metadata": {
    "collapsed": false,
    "ExecuteTime": {
     "start_time": "2024-11-16T18:46:39.759605773Z"
    }
   },
   "outputs": [],
   "source": [
    "points_list = [points_a, points_b, points_c, points_d]\n",
    "labels = ['Punkty A', 'Punkty B', 'Punkty C', 'Punkty D']"
   ]
  },
  {
   "cell_type": "code",
   "execution_count": null,
   "id": "2975b1c603d6a36f",
   "metadata": {
    "collapsed": false,
    "ExecuteTime": {
     "start_time": "2024-11-16T18:46:39.759966274Z"
    }
   },
   "outputs": [],
   "source": [
    "plot_results(points_list, graham_alg, labels, \"Results of Graham algorithm\")"
   ]
  },
  {
   "cell_type": "code",
   "execution_count": null,
   "id": "5994e1ac395341ee",
   "metadata": {
    "collapsed": false,
    "ExecuteTime": {
     "start_time": "2024-11-16T18:46:39.760321964Z"
    }
   },
   "outputs": [],
   "source": [
    "plot_results(points_list, jarvis_alg, labels, \"Results of Jarvis algorithm\")"
   ]
  },
  {
   "cell_type": "code",
   "execution_count": null,
   "id": "2578ca288bc7f5d7",
   "metadata": {
    "collapsed": false,
    "ExecuteTime": {
     "start_time": "2024-11-16T18:46:39.760653063Z"
    }
   },
   "outputs": [],
   "source": [
    "import pandas as pd\n",
    "import time\n",
    "def compare_time(generators_list, num_of_points, functions):\n",
    "    point_sets = ['a', 'b', 'c', 'd']\n",
    "    \n",
    "    columns = pd.MultiIndex.from_product(\n",
    "        [[fn.__name__ for fn in functions], point_sets],\n",
    "        names=['Function', 'Set']\n",
    "    )\n",
    "    \n",
    "    results = pd.DataFrame(index=num_of_points, columns=columns)\n",
    "\n",
    "    for points_num in num_of_points:\n",
    "        points_list = [generator(num_points=points_num) for generator in generators_list]\n",
    "        \n",
    "        for fn in functions:\n",
    "            for i, points in enumerate(points_list):\n",
    "                start_time = time.time()\n",
    "                _ = fn(points)\n",
    "                elapsed_time = time.time() - start_time\n",
    "                \n",
    "                results.loc[points_num, (fn.__name__, point_sets[i])] = elapsed_time\n",
    "\n",
    "    return results"
   ]
  },
  {
   "cell_type": "code",
   "execution_count": null,
   "id": "9f52cd5e719ff176",
   "metadata": {
    "collapsed": false,
    "ExecuteTime": {
     "start_time": "2024-11-16T18:46:39.760947291Z"
    }
   },
   "outputs": [],
   "source": [
    "generators_list = [points_arand, points_bcircle, points_crect, points_diagsq]\n",
    "num_of_points = [500, 1000, 2000, 5000, 10000]\n",
    "functions = [graham_alg, jarvis_alg]\n",
    "df = compare_time(generators_list, num_of_points, functions)\n",
    "df"
   ]
  },
  {
   "cell_type": "code",
   "execution_count": null,
   "id": "6e9d4651184ed436",
   "metadata": {
    "collapsed": false,
    "ExecuteTime": {
     "start_time": "2024-11-16T18:46:39.761411324Z"
    }
   },
   "outputs": [],
   "source": [
    "generators_list = [points_crect, points_diagsq, points_crect, points_diagsq]\n",
    "num_of_points = [100000]\n",
    "functions = [graham_alg, jarvis_alg]\n",
    "df = compare_time(generators_list, num_of_points, functions)\n",
    "df"
   ]
  },
  {
   "cell_type": "code",
   "execution_count": null,
   "id": "9db781c79b6c66f2",
   "metadata": {
    "collapsed": false,
    "ExecuteTime": {
     "start_time": "2024-11-16T18:46:39.761681338Z"
    }
   },
   "outputs": [],
   "source": [
    "from matplotlib.animation import FuncAnimation, PillowWriter\n",
    "\n",
    "def jarvis_visualization(points, name):\n",
    "    def dist_j(a,b, start):\n",
    "        return (a[0]-start[0])**2+(a[1]-start[1])**2-(b[0]-start[0])**2-(b[1]-start[1])**2\n",
    "\n",
    "    def orient(a, b, c):\n",
    "        det = (a[0]-c[0]) * (b[1]-c[1]) - (b[0]-c[0]) * (a[1]-c[1])\n",
    "        return det if det else dist_j(b,c,a)\n",
    "    \n",
    "    min_point = np.float64([float('inf'), float('inf')])\n",
    "    idx = -1\n",
    "    for i in range(len(points)):\n",
    "        if points[i][1] < min_point[1]:\n",
    "            min_point = points[i]\n",
    "            idx = i\n",
    "        elif points[i][1] == min_point[1] and points[i][0] < min_point[0]:\n",
    "            min_point = points[i]\n",
    "            idx = i\n",
    "    n = len(points)\n",
    "    s = []\n",
    "    s.append(points[idx])\n",
    "    i = idx\n",
    "    \n",
    "    edges = []\n",
    "    \n",
    "    fig, ax = plt.subplots(figsize=(8, 8))\n",
    "    minx = min(points[i][0] for i in range(len(points)))\n",
    "    maxx = max(points[i][0] for i in range(len(points))) * 1.1\n",
    "    miny = min(points[i][1] for i in range(len(points)))\n",
    "    maxy = max(points[i][1] for i in range(len(points))) * 1.1\n",
    "    \n",
    "    minx *= (1.1 if minx<0 else 0.9)\n",
    "    miny *= (1.1 if minx<0 else 0.9)\n",
    "    \n",
    "    if miny == 0:\n",
    "        miny -= 1\n",
    "    if minx == 0:\n",
    "        minx -= 1\n",
    "    \n",
    "    ax.set_xlim(minx, maxx)\n",
    "    ax.set_ylim(miny, maxy)\n",
    "\n",
    "    ax.scatter(points[:, 0], points[:, 1], color='blue', label='Punkty wejściowe')\n",
    "    \n",
    "    frames = []\n",
    "    \n",
    "    while True:\n",
    "        s.append(points[i])\n",
    "        edges.append((s[-2], s[-1])) if len(s) > 1 else None\n",
    "        k = (i+1) % n\n",
    "        for j in range(n):\n",
    "            if j == k:\n",
    "                continue\n",
    "            if orient(points[i], points[k], points[j]) < 0:\n",
    "                k = j\n",
    "                frames.append((list(s), list(edges), (s[-1], points[j]) if s else None, None))\n",
    "        i = k\n",
    "        \n",
    "        frames.append((list(s), list(edges), None, edges[-1] if len(edges) > 0 else None))\n",
    "        if i == idx:\n",
    "            break\n",
    "  \n",
    "    def update(frame):\n",
    "        ax.cla()\n",
    "        ax.set_xlim(minx, maxx)\n",
    "        ax.set_ylim(miny, maxy)\n",
    "        \n",
    "        ax.scatter(points[:, 0], points[:, 1], color='blue', label='Punkty wejściowe')\n",
    "        \n",
    "        hull_edges = frame[1]\n",
    "        for i, edge in enumerate(hull_edges):\n",
    "            ax.plot([edge[0][0], edge[1][0]], [edge[0][1], edge[1][1]], 'g-', label=\"Krawędzie otoczki\" if i == 0 else \"\")\n",
    "\n",
    "        if frame[2] is not None:\n",
    "            current_edge = frame[2]\n",
    "            ax.plot([current_edge[0][0], current_edge[1][0]], \n",
    "                    [current_edge[0][1], current_edge[1][1]], 'r--', label=\"Aktualnie rozpatrywana krawędź\")\n",
    "\n",
    "        hull_points = np.array(frame[0])\n",
    "        ax.scatter(hull_points[:, 0], hull_points[:, 1], color='green', s=100, zorder=3, label=\"Wierzchołki otoczki\")\n",
    "        \n",
    "        ax.legend()\n",
    "\n",
    "    ani = FuncAnimation(fig, update, frames=frames, repeat=True, blit=False)\n",
    "\n",
    "    # Zapis do GIF\n",
    "    ani.save(f\"jarvis_alg_{name}.gif\", writer=PillowWriter(fps=2))\n",
    "\n",
    "    plt.close()\n",
    "    from IPython.display import Image\n",
    "    return Image(filename=f\"jarvis_alg_{name}.gif\")"
   ]
  },
  {
   "cell_type": "code",
   "execution_count": null,
   "id": "a3ea0b82d477a7e3",
   "metadata": {
    "collapsed": false,
    "ExecuteTime": {
     "start_time": "2024-11-16T18:46:39.761935980Z"
    }
   },
   "outputs": [],
   "source": [
    "jarvis_visualization(points_a, \"a\")\n",
    "jarvis_visualization(points_b, \"b\")\n",
    "jarvis_visualization(points_c, \"c\")\n",
    "jarvis_visualization(points_d, \"d\")"
   ]
  },
  {
   "cell_type": "code",
   "execution_count": null,
   "id": "6a63d954d3827d77",
   "metadata": {
    "collapsed": false,
    "ExecuteTime": {
     "start_time": "2024-11-16T18:46:39.762233057Z"
    }
   },
   "outputs": [],
   "source": [
    "def graham_visualization(points, name):\n",
    "    sa_points = []\n",
    "    min_point = np.float64([float('inf'), float('inf')])\n",
    "    for point in points:\n",
    "        if point[1] < min_point[1]:\n",
    "            min_point = point\n",
    "        elif point[1] == min_point[1] and point[0] < min_point[0]:\n",
    "            min_point = point\n",
    "    for point in points:\n",
    "        sa_points.append((point, angle(min_point, point), dist(min_point, point)))\n",
    "    sa_points.sort(key= lambda x: (x[1], x[2]))\n",
    "    chk_points = []\n",
    "    for i in range(len(sa_points)-1):\n",
    "        if sa_points[i][1] != sa_points[i+1][1]:\n",
    "            chk_points.append(sa_points[i][0])\n",
    "    if sa_points[-1][1] != 0:\n",
    "        chk_points.append(sa_points[-1][0])\n",
    "    \n",
    "    fig, ax = plt.subplots(figsize=(8, 8))\n",
    "    minx = min(points[i][0] for i in range(len(points)))\n",
    "    maxx = max(points[i][0] for i in range(len(points))) * 1.1\n",
    "    miny = min(points[i][1] for i in range(len(points)))\n",
    "    maxy = max(points[i][1] for i in range(len(points))) * 1.1\n",
    "    \n",
    "    minx *= (1.1 if minx<0 else 0.8)\n",
    "    miny *= (1.1 if minx<0 else 0.8)\n",
    "    \n",
    "    if miny == 0:\n",
    "        miny -= 1\n",
    "    if minx == 0:\n",
    "        minx -= 1\n",
    "    \n",
    "    ax.set_xlim(minx, maxx)\n",
    "    ax.set_ylim(miny, maxy)\n",
    "\n",
    "    \n",
    "    frames = []\n",
    "    edges = []\n",
    "    \n",
    "    s = []\n",
    "    s.append(min_point)\n",
    "    s.append(chk_points[0])\n",
    "    s.append(chk_points[1])\n",
    "    \n",
    "    i = 2\n",
    "    while i < len(chk_points):\n",
    "        if is_on_left(chk_points[i], s[-2], s[-1]):\n",
    "            s.append(chk_points[i])\n",
    "            i += 1\n",
    "        else:\n",
    "            s.pop()\n",
    "        edges.append(s.copy())\n",
    "        frames.append((chk_points[i] if i < len(chk_points) else None, edges[-1]))\n",
    "    s.append(s[0])\n",
    "    edges.append(s.copy())\n",
    "    frames.append((chk_points[i] if i < len(chk_points) else None, []))\n",
    "    \n",
    "    def update(frame):\n",
    "        ax.clear()\n",
    "        ax.set_xlim(minx, maxx)\n",
    "        ax.set_ylim(miny, maxy)\n",
    "        \n",
    "        ax.scatter(points[:, 0], points[:, 1], color='blue', label='Punkty')\n",
    "        \n",
    "        hull_points = frame[1]\n",
    "        for j in range(1, len(hull_points)):\n",
    "            ax.plot([hull_points[j - 1][0], hull_points[j][0]], \n",
    "                    [hull_points[j - 1][1], hull_points[j][1]], 'g-')\n",
    "        \n",
    "        if len(hull_points) > 1:\n",
    "            ax.plot([hull_points[-2][0], hull_points[-1][0]], \n",
    "                    [hull_points[-2][1], hull_points[-1][1]], 'r--', label=\"Aktualna krawędź\")\n",
    "        \n",
    "        ax.scatter([p[0] for p in hull_points], [p[1] for p in hull_points], color='green', s=50, label='Otoczka')\n",
    "        \n",
    "        current_point = frame[0]\n",
    "        if current_point is not None:\n",
    "            ax.scatter(current_point[0], current_point[1], color='orange', s=40, label=\"Rozważany punkt\")\n",
    "\n",
    "        ax.legend()\n",
    "\n",
    "    ani = FuncAnimation(fig, update, frames=frames, repeat=False, blit=False)\n",
    "    ani.save(f\"graham_alg_{name}.gif\", writer=PillowWriter(fps=2))\n",
    "    plt.show()\n",
    "    \n",
    "    plt.close()\n",
    "    from IPython.display import Image\n",
    "    return Image(filename=f\"graham_alg_{name}.gif\")"
   ]
  },
  {
   "cell_type": "code",
   "execution_count": null,
   "id": "1f7ec41dc1bbd6bc",
   "metadata": {
    "collapsed": false,
    "ExecuteTime": {
     "start_time": "2024-11-16T18:46:39.762542477Z"
    }
   },
   "outputs": [],
   "source": [
    "graham_visualization(points_a, \"a\")\n",
    "graham_visualization(points_b, \"b\")\n",
    "graham_visualization(points_c, \"c\")\n",
    "graham_visualization(points_d, \"d\")"
   ]
  }
 ],
 "metadata": {
  "kernelspec": {
   "display_name": "Python 3 (ipykernel)",
   "language": "python",
   "name": "python3"
  },
  "language_info": {
   "codemirror_mode": {
    "name": "ipython",
    "version": 3
   },
   "file_extension": ".py",
   "mimetype": "text/x-python",
   "name": "python",
   "nbconvert_exporter": "python",
   "pygments_lexer": "ipython3",
   "version": "3.10.12"
  }
 },
 "nbformat": 4,
 "nbformat_minor": 5
}
