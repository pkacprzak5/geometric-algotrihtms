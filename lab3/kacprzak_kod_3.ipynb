{
 "cells": [
  {
   "cell_type": "code",
   "execution_count": 2,
   "id": "316264cc088c5ec4",
   "metadata": {
    "ExecuteTime": {
     "end_time": "2024-11-22T09:54:22.744480128Z",
     "start_time": "2024-11-22T09:54:22.305800192Z"
    },
    "collapsed": false
   },
   "outputs": [],
   "source": [
    "import matplotlib.pyplot as plt"
   ]
  },
  {
   "cell_type": "code",
   "execution_count": 3,
   "id": "e0709f43459e83f0",
   "metadata": {
    "ExecuteTime": {
     "end_time": "2024-11-22T10:09:46.416501546Z",
     "start_time": "2024-11-22T10:09:46.409000200Z"
    },
    "collapsed": false
   },
   "outputs": [],
   "source": [
    "def save_polygon_to_file(polygon, file_path):\n",
    "    with open(file_path, 'w') as file:\n",
    "        for item in polygon:\n",
    "            file.write(f\"{item[0]} {item[1]}\\n\")\n",
    "\n",
    "def read_polygon_from_file(file_path):\n",
    "    polygon = []\n",
    "    with open(file_path, 'r') as file:\n",
    "        for line in file:\n",
    "            polygon.append(list(map(lambda x: float(x), line.split())))\n",
    "\n",
    "    return polygon"
   ]
  },
  {
   "cell_type": "code",
   "execution_count": 5,
   "id": "fb22b74d7b71fd8b",
   "metadata": {
    "ExecuteTime": {
     "end_time": "2024-11-22T10:10:08.825311597Z",
     "start_time": "2024-11-22T10:10:08.724849184Z"
    },
    "collapsed": false
   },
   "outputs": [
    {
     "data": {
      "application/vnd.jupyter.widget-view+json": {
       "model_id": "c3ef7f1b5d374be9ab9a32f5a7ba92ea",
       "version_major": 2,
       "version_minor": 0
      },
      "image/png": "[encoded data removed]",
      "text/html": [
       "\n",
       "            <div style=\"display: inline-block;\">\n",
       "                <div class=\"jupyter-widgets widget-label\" style=\"text-align: center;\">\n",
       "                    Figure\n",
       "                </div>\n",
       "                <img src='data:image/png;base64,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' width=640.0/>\n",
       "            </div>\n",
       "        "
      ],
      "text/plain": [
       "Canvas(toolbar=Toolbar(toolitems=[('Home', 'Reset original view', 'home', 'home'), ('Back', 'Back to previous …"
      ]
     },
     "metadata": {},
     "output_type": "display_data"
    }
   ],
   "source": [
    "%matplotlib widget\n",
    "fig = plt.figure()\n",
    "ax = fig.add_subplot(111)\n",
    "ax.set_xlim([0, 10])\n",
    "ax.set_ylim([0, 10])\n",
    "\n",
    "given_polygon = []\n",
    "points_x = []\n",
    "points_y = []\n",
    "eps = 0.1\n",
    "finished = False\n",
    "\n",
    "def onclick(event):\n",
    "    global finished, given_polygon\n",
    "    if len(points_x) > 0 and abs(points_x[0] - event.xdata) < eps and abs(points_y[0] - event.ydata) < eps: \n",
    "        given_polygon = list(zip(points_x, points_y))\n",
    "        points_x.append(points_x[0])\n",
    "        points_y.append(points_y[0])\n",
    "        finished = True\n",
    "    if not finished:\n",
    "        points_x.append(event.xdata)\n",
    "        points_y.append(event.ydata)\n",
    "        col = 'blue'\n",
    "    else:\n",
    "        col = 'green'\n",
    "    plt.plot(points_x, points_y, '.', c=col)\n",
    "    plt.plot(points_x, points_y, c=col)\n",
    "\n",
    "cid = fig.canvas.mpl_connect('button_press_event', onclick)\n",
    "plt.show()"
   ]
  },
  {
   "cell_type": "code",
   "execution_count": 7,
   "id": "a8a9d288-52c2-49f2-b048-29891da9a6bf",
   "metadata": {},
   "outputs": [],
   "source": [
    "%matplotlib inline\n",
    "save_polygon_to_file(given_polygon, \"polygon.txt\")"
   ]
  },
  {
   "cell_type": "code",
   "execution_count": 8,
   "id": "49065f80-eeb3-441d-9adb-df7eca044b0e",
   "metadata": {},
   "outputs": [
    {
     "data": {
      "text/plain": [
       "[(8.065382434475806, 4.623367974768472),\n",
       " (6.049253402217742, 7.95129005269055),\n",
       " (3.7710275957661294, 8.844147195547691),\n",
       " (3.9323179183467745, 6.9502078016082995),\n",
       " (1.8355437247983875, 6.436138537539035),\n",
       " (3.3274792086693554, 5.38094373234423),\n",
       " (1.7145759828629035, 4.379861481261979),\n",
       " (3.5089308215725805, 3.459948061348559),\n",
       " (2.198446950604839, 2.2694718708723682),\n",
       " (4.234737273185484, 1.3225021739026717),\n",
       " (5.68635017641129, 1.8095151609156586),\n",
       " (7.54118888608871, 2.4047532561537537),\n",
       " (7.783124369959678, 3.2164415678420655)]"
      ]
     },
     "execution_count": 8,
     "metadata": {},
     "output_type": "execute_result"
    }
   ],
   "source": [
    "given_polygon"
   ]
  },
  {
   "cell_type": "code",
   "execution_count": 9,
   "id": "3a60ee72c752582e",
   "metadata": {
    "ExecuteTime": {
     "end_time": "2024-11-22T09:54:22.751502584Z",
     "start_time": "2024-11-22T09:54:22.747034099Z"
    },
    "collapsed": false
   },
   "outputs": [],
   "source": [
    "def is_y_monotonic(polygon):\n",
    "    \"\"\"\n",
    "    Sprawdza, czy wielokąt jest y-monotoniczny.\n",
    "    \n",
    "    :param polygon: Lista wierzchołków wielokąta w formacie [(x1, y1), (x2, y2), ...]\n",
    "                    Wierzchołki są podane przeciwnie do ruchu wskazówek zegara.\n",
    "    :return: True, jeśli wielokąt jest y-monotoniczny, w przeciwnym razie False.\n",
    "    \"\"\"\n",
    "    n = len(polygon)\n",
    "    if n < 3:\n",
    "        return False\n",
    "\n",
    "    min_y_index = min(range(n), key=lambda i: polygon[i][1])\n",
    "    max_y_index = max(range(n), key=lambda i: polygon[i][1])\n",
    "\n",
    "    current_index = min_y_index\n",
    "    while current_index != max_y_index:\n",
    "        next_index = (current_index + 1) % n\n",
    "        if polygon[next_index][1] < polygon[current_index][1]:\n",
    "            return False\n",
    "        current_index = next_index\n",
    "\n",
    "    current_index = max_y_index\n",
    "    while current_index != min_y_index:\n",
    "        next_index = (current_index + 1) % n\n",
    "        if polygon[next_index][1] > polygon[current_index][1]:\n",
    "            return False\n",
    "        current_index = next_index\n",
    "\n",
    "    return True"
   ]
  },
  {
   "cell_type": "code",
   "execution_count": 20,
   "id": "92b3d005034f92d7",
   "metadata": {
    "ExecuteTime": {
     "end_time": "2024-11-22T09:54:22.758830380Z",
     "start_time": "2024-11-22T09:54:22.749717075Z"
    },
    "collapsed": false
   },
   "outputs": [
    {
     "name": "stdout",
     "output_type": "stream",
     "text": [
      "True\n",
      "True\n",
      "False\n",
      "True\n"
     ]
    }
   ],
   "source": [
    "polygon = [(0, 0), (2, 1), (1, 3), (0, 2)]  # Przeciwnie do ruchu wskazówek zegara\n",
    "polygon_example_1 = [(5,5), (3,4), (6,3), (4,2), (6,0), (7,1), (8,4)]\n",
    "polygon_example_2 = [(2,0), (5,1), (6,0), (8,3), (7,2), (8,7), (6,9), (5,8), (2,9), (1,7), (2,4), (4,5), (3,6), (5, 7), (5.5, 3), (2,2), (1,3), (0,1)]\n",
    "\n",
    "print(is_y_monotonic(polygon))\n",
    "print(is_y_monotonic(polygon_example_1))\n",
    "print(is_y_monotonic(polygon_example_2))\n",
    "print(is_y_monotonic(given_polygon))"
   ]
  },
  {
   "cell_type": "code",
   "execution_count": 21,
   "id": "47e7d1ad9da9eed9",
   "metadata": {
    "ExecuteTime": {
     "end_time": "2024-11-22T10:03:08.765784509Z",
     "start_time": "2024-11-22T10:03:08.723758615Z"
    },
    "collapsed": false
   },
   "outputs": [],
   "source": [
    "def classify_vertices(polygon):\n",
    "    def det(p, q, r):\n",
    "        return (q[0] - p[0]) * (r[1] - p[1]) - (q[1] - p[1]) * (r[0] - p[0])\n",
    "    \n",
    "    n = len(polygon)\n",
    "    types = {\n",
    "        \"początkowe\": [],\n",
    "        \"końcowe\": [],\n",
    "        \"dzielące\": [],\n",
    "        \"łączące\": [],\n",
    "        \"prawidłowe\": [],\n",
    "    }\n",
    "    \n",
    "    for i in range(n):\n",
    "        prev = polygon[(i - 1) % n]\n",
    "        curr = polygon[i]\n",
    "        next = polygon[(i + 1) % n]\n",
    "        \n",
    "        if curr[1] > prev[1] and curr[1] > next[1]:\n",
    "            if det(prev, curr, next) < 0:\n",
    "                types[\"dzielące\"].append(curr)\n",
    "            else:\n",
    "                types[\"początkowe\"].append(curr)\n",
    "        elif curr[1] < prev[1] and curr[1] < next[1]:\n",
    "            if det(prev, curr, next) < 0:\n",
    "                types[\"łączące\"].append(curr)\n",
    "            else:\n",
    "                types[\"końcowe\"].append(curr)\n",
    "        else:\n",
    "            types[\"prawidłowe\"].append(curr)\n",
    "    \n",
    "    return types\n",
    "\n",
    "def plot_polygon_with_classification(polygon, vertex_types):\n",
    "    plt.figure(figsize=(8, 6))\n",
    "    \n",
    "    xs, ys = zip(*polygon + [polygon[0]])\n",
    "    plt.plot(xs, ys, color=\"black\", linestyle=\"-\", linewidth=1, label=\"Polygon\")\n",
    "    \n",
    "    colors = {\n",
    "        \"początkowe\": \"green\",\n",
    "        \"końcowe\": \"red\",\n",
    "        \"łączące\": \"darkblue\",\n",
    "        \"dzielące\": \"blue\",\n",
    "        \"prawidłowe\": \"brown\",\n",
    "    }\n",
    "    \n",
    "    for vertex_type, vertices in vertex_types.items():\n",
    "        x, y = zip(*vertices) if vertices else ([], [])\n",
    "        plt.scatter(x, y, label=vertex_type.capitalize(), color=colors[vertex_type])\n",
    "    \n",
    "    plt.legend()\n",
    "    plt.xlabel(\"X\")\n",
    "    plt.ylabel(\"Y\")\n",
    "    plt.title(\"Klasyfikacja wierzchołków wielokąta\")\n",
    "    plt.axis(\"equal\")\n",
    "    plt.show()"
   ]
  },
  {
   "cell_type": "code",
   "execution_count": 25,
   "id": "660da0814eb7a3ff",
   "metadata": {
    "ExecuteTime": {
     "end_time": "2024-11-22T10:03:09.793117399Z",
     "start_time": "2024-11-22T10:03:09.682308854Z"
    },
    "collapsed": false
   },
   "outputs": [
    {
     "data": {
      "image/png": "[encoded data removed]",
      "text/plain": [
       "<Figure size 800x600 with 1 Axes>"
      ]
     },
     "metadata": {},
     "output_type": "display_data"
    }
   ],
   "source": [
    "vertex_types = classify_vertices(polygon_example_2)\n",
    "plot_polygon_with_classification(polygon_example_2, vertex_types)"
   ]
  },
  {
   "cell_type": "code",
   "execution_count": 135,
   "id": "3b70e38ffefd42ec",
   "metadata": {
    "collapsed": false,
    "ExecuteTime": {
     "end_time": "2024-11-22T10:17:42.191094122Z",
     "start_time": "2024-11-22T10:17:42.171426079Z"
    }
   },
   "outputs": [],
   "source": [
    "def sort_points(points):\n",
    "    y_min = min(points, key=lambda p: p[1])[1]\n",
    "    y_max = max(points, key=lambda p: p[1])[1]\n",
    "\n",
    "    precision = 1e-6\n",
    "    bucket_count = int((y_max - y_min) / precision) + 1\n",
    "\n",
    "    buckets = [[] for _ in range(bucket_count)]\n",
    "\n",
    "    for point in points:\n",
    "        bucket_index = int((point[1] - y_min) / precision)\n",
    "        buckets[bucket_index].append(point)\n",
    "\n",
    "    for bucket in buckets:\n",
    "        bucket.sort(key=lambda p: -p[0])\n",
    "\n",
    "    sorted_points = [point for bucket in buckets for point in bucket]\n",
    "    \n",
    "    return sorted_points[::-1]\n",
    "\n",
    "\n",
    "def triangulate(polygon):\n",
    "    \"\"\"\n",
    "    Triangulacja wielokąta y-monotonicznego, gdzie wierzchołki są podane przeciwnie\n",
    "    do ruchu wskazówek zegara.\n",
    "    \n",
    "    :param polygon: Lista wierzchołków wielokąta w formacie [(x1, y1), (x2, y2), ...].\n",
    "    :return: Lista trójkątów (każdy w formacie [(x1, y1), (x2, y2), (x3, y3)]).\n",
    "    \"\"\"\n",
    "    def to_sides(polygon):\n",
    "        n = len(polygon)\n",
    "        top = polygon.index(max(polygon, key= lambda x: x[1]))\n",
    "        bottom = polygon.index(min(polygon, key= lambda x: x[1]))\n",
    "        left = []\n",
    "        right = []\n",
    "        i = top\n",
    "        while i != bottom:\n",
    "            left.append(polygon[i])\n",
    "            i = (i+1)%n\n",
    "        while i != top:\n",
    "            right.append(polygon[i])\n",
    "            i = (i+1)%n\n",
    "        return left, right\n",
    "    \n",
    "    def det(p, q, r):\n",
    "        \"\"\"Oblicza orientację trójkąta: p -> q -> r.\"\"\"\n",
    "        val = (q[0] - p[0]) * (r[1] - p[1]) - (q[1] - p[1]) * (r[0] - p[0])\n",
    "        return val\n",
    "    \n",
    "    def inner_triangle(a, b, c):\n",
    "        if b in left_chain:\n",
    "            return det(a, b, c) > 0\n",
    "        return det(a, b, c) < 0\n",
    "    \n",
    "    if not is_y_monotonic:\n",
    "        return None\n",
    "\n",
    "    left_chain, right_chain = to_sides(polygon)\n",
    "    \n",
    "    vertices = sort_points(polygon)\n",
    "    \n",
    "    stack = [vertices[0], vertices[1]]\n",
    "    triangles = []\n",
    "    \n",
    "    for i in range(2, len(vertices)):\n",
    "        current = vertices[i]\n",
    "        if (current in left_chain) != (stack[-1] in left_chain):\n",
    "            while len(stack) > 1:\n",
    "                triangles.append([current, stack[-1], stack[-2]])\n",
    "                stack.pop()\n",
    "            stack = [vertices[i-1], current]\n",
    "        else:\n",
    "            while len(stack) > 1 and (\n",
    "                (current in left_chain and det(stack[-2], stack[-1], current) > 0)\n",
    "                or (current in right_chain and det(stack[-2], stack[-1], current) < 0)\n",
    "            ):\n",
    "                triangles.append([current, stack[-1], stack[-2]])\n",
    "                stack.pop()\n",
    "            stack.append(current)\n",
    "\n",
    "    while len(stack) > 2:\n",
    "        triangles.append([stack[-1], stack[-2], stack[0]])\n",
    "        stack.pop()\n",
    "\n",
    "    return triangles"
   ]
  },
  {
   "cell_type": "code",
   "execution_count": 34,
   "id": "43005b3449f38588",
   "metadata": {
    "ExecuteTime": {
     "end_time": "2024-11-22T10:07:37.562780137Z",
     "start_time": "2024-11-22T10:07:37.559590150Z"
    },
    "collapsed": false
   },
   "outputs": [],
   "source": [
    "def plot_polygon_and_triangulation(polygon, triangles):\n",
    "    # Narysuj wielokąt\n",
    "    xs, ys = zip(*polygon + [polygon[0]])\n",
    "    plt.plot(xs, ys, color=\"black\", linestyle=\"-\", linewidth=1, label=\"Polygon\")\n",
    "    \n",
    "    # Narysuj trójkąty\n",
    "    for triangle in triangles:\n",
    "        tx, ty = zip(*triangle + [triangle[0]])\n",
    "        plt.plot(tx, ty, linestyle=\"--\", color=\"red\", alpha=0.7)\n",
    "    \n",
    "    # Wierzchołki\n",
    "    x, y = zip(*polygon)\n",
    "    plt.scatter(x, y, color=\"green\", zorder=5, label=\"Vertices\")\n",
    "    \n",
    "    plt.legend()\n",
    "    plt.xlabel(\"X\")\n",
    "    plt.ylabel(\"Y\")\n",
    "    plt.title(\"Triangulacja wielokąta y-monotonicznego\")\n",
    "    plt.axis(\"equal\")\n",
    "    plt.show()"
   ]
  },
  {
   "cell_type": "code",
   "execution_count": 35,
   "id": "b6632acb5e88896b",
   "metadata": {
    "ExecuteTime": {
     "end_time": "2024-11-22T10:07:38.225623782Z",
     "start_time": "2024-11-22T10:07:38.150441543Z"
    },
    "collapsed": false
   },
   "outputs": [
    {
     "ename": "TypeError",
     "evalue": "list indices must be integers or slices, not numpy.float64",
     "output_type": "error",
     "traceback": [
      "\u001B[0;31m---------------------------------------------------------------------------\u001B[0m",
      "\u001B[0;31mTypeError\u001B[0m                                 Traceback (most recent call last)",
      "Cell \u001B[0;32mIn[35], line 1\u001B[0m\n\u001B[0;32m----> 1\u001B[0m triangles \u001B[38;5;241m=\u001B[39m \u001B[43mtriangulate\u001B[49m\u001B[43m(\u001B[49m\u001B[43mgiven_polygon\u001B[49m\u001B[43m)\u001B[49m\n\u001B[1;32m      2\u001B[0m \u001B[38;5;28mprint\u001B[39m(triangles)\n\u001B[1;32m      3\u001B[0m plot_polygon_and_triangulation(given_polygon, triangles)\n",
      "Cell \u001B[0;32mIn[33], line 56\u001B[0m, in \u001B[0;36mtriangulate\u001B[0;34m(polygon)\u001B[0m\n\u001B[1;32m     52\u001B[0m     \u001B[38;5;28;01mreturn\u001B[39;00m \u001B[38;5;28;01mNone\u001B[39;00m\n\u001B[1;32m     54\u001B[0m left_chain, right_chain \u001B[38;5;241m=\u001B[39m to_sides(polygon)\n\u001B[0;32m---> 56\u001B[0m vertices \u001B[38;5;241m=\u001B[39m \u001B[43msort_points\u001B[49m\u001B[43m(\u001B[49m\u001B[43mpolygon\u001B[49m\u001B[43m)\u001B[49m\n\u001B[1;32m     58\u001B[0m stack \u001B[38;5;241m=\u001B[39m [vertices[\u001B[38;5;241m0\u001B[39m], vertices[\u001B[38;5;241m1\u001B[39m]]\n\u001B[1;32m     59\u001B[0m triangles \u001B[38;5;241m=\u001B[39m []\n",
      "Cell \u001B[0;32mIn[33], line 9\u001B[0m, in \u001B[0;36msort_points\u001B[0;34m(points)\u001B[0m\n\u001B[1;32m      7\u001B[0m \u001B[38;5;28;01mfor\u001B[39;00m point \u001B[38;5;129;01min\u001B[39;00m points:\n\u001B[1;32m      8\u001B[0m     bucket_index \u001B[38;5;241m=\u001B[39m point[\u001B[38;5;241m1\u001B[39m] \u001B[38;5;241m-\u001B[39m \u001B[38;5;28mint\u001B[39m(y_min)\n\u001B[0;32m----> 9\u001B[0m     \u001B[43mbuckets\u001B[49m\u001B[43m[\u001B[49m\u001B[43mbucket_index\u001B[49m\u001B[43m]\u001B[49m\u001B[38;5;241m.\u001B[39mappend(point)\n\u001B[1;32m     11\u001B[0m \u001B[38;5;28;01mfor\u001B[39;00m bucket \u001B[38;5;129;01min\u001B[39;00m buckets:\n\u001B[1;32m     12\u001B[0m     bucket\u001B[38;5;241m.\u001B[39msort(key\u001B[38;5;241m=\u001B[39m\u001B[38;5;28;01mlambda\u001B[39;00m p: \u001B[38;5;241m-\u001B[39mp[\u001B[38;5;241m0\u001B[39m])\n",
      "\u001B[0;31mTypeError\u001B[0m: list indices must be integers or slices, not numpy.float64"
     ]
    }
   ],
   "source": [
    "triangles = triangulate(given_polygon)\n",
    "print(triangles)\n",
    "plot_polygon_and_triangulation(given_polygon, triangles)"
   ]
  },
  {
   "cell_type": "code",
   "execution_count": null,
   "id": "62eab639-c819-4b89-bf3b-b0c09c8bfb62",
   "metadata": {},
   "outputs": [],
   "source": []
  }
 ],
 "metadata": {
  "kernelspec": {
   "display_name": "Python 3 (ipykernel)",
   "language": "python",
   "name": "python3"
  },
  "language_info": {
   "codemirror_mode": {
    "name": "ipython",
    "version": 3
   },
   "file_extension": ".py",
   "mimetype": "text/x-python",
   "name": "python",
   "nbconvert_exporter": "python",
   "pygments_lexer": "ipython3",
   "version": "3.10.12"
  }
 },
 "nbformat": 4,
 "nbformat_minor": 5
}
