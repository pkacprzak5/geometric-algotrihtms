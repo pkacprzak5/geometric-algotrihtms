{
 "cells": [
  {
   "cell_type": "code",
   "execution_count": 1,
   "id": "initial_id",
   "metadata": {
    "collapsed": true,
    "ExecuteTime": {
     "end_time": "2024-10-24T13:24:51.823806565Z",
     "start_time": "2024-10-24T13:24:51.738639685Z"
    }
   },
   "outputs": [],
   "source": [
    "import random\n",
    "\n",
    "import numpy as np"
   ]
  },
  {
   "cell_type": "code",
   "execution_count": 2,
   "outputs": [],
   "source": [
    "np.random.seed(42)\n",
    "points_a = np.random.uniform(-1000.0, 1000.0, size=(10 ** 5, 2))\n",
    "points_b = np.random.uniform(-1 * (10 ** 14), 10 ** 14, size=(10 ** 5, 2))"
   ],
   "metadata": {
    "collapsed": false,
    "ExecuteTime": {
     "end_time": "2024-10-24T13:24:51.833956240Z",
     "start_time": "2024-10-24T13:24:51.825648729Z"
    }
   },
   "id": "4ed7ac7d0b81de15"
  },
  {
   "cell_type": "code",
   "execution_count": 3,
   "outputs": [],
   "source": [
    "np.random.seed(42)\n",
    "num_points = 1000\n",
    "R = 100\n",
    "\n",
    "angles = np.random.uniform(0, 2 * np.pi, num_points)\n",
    "\n",
    "x = R * np.cos(angles)\n",
    "y = R * np.sin(angles)\n",
    "\n",
    "points_c = np.column_stack((x, y))"
   ],
   "metadata": {
    "collapsed": false,
    "ExecuteTime": {
     "end_time": "2024-10-24T13:24:51.847436305Z",
     "start_time": "2024-10-24T13:24:51.834177522Z"
    }
   },
   "id": "6b9cd9e005c64e0"
  },
  {
   "cell_type": "code",
   "execution_count": 4,
   "outputs": [],
   "source": [
    "a = np.array([-1.0, 0.0])\n",
    "b = np.array([1.0, 0.1])\n",
    "\n",
    "direction = b - a\n",
    "\n",
    "num_points = 1000\n",
    "\n",
    "t_values = np.random.uniform(-500.0, 500.0, num_points)\n",
    "\n",
    "points_d = a + t_values[:, np.newaxis] * direction"
   ],
   "metadata": {
    "collapsed": false,
    "ExecuteTime": {
     "end_time": "2024-10-24T13:24:51.847994405Z",
     "start_time": "2024-10-24T13:24:51.839022288Z"
    }
   },
   "id": "7d95d3adcabaec3e"
  },
  {
   "cell_type": "code",
   "execution_count": 5,
   "outputs": [],
   "source": [
    "from matplotlib import pyplot as plt\n",
    "\n",
    "def plot_points(points_list, labels, title):\n",
    "    num_plots = len(points_list)\n",
    "    num_cols = 2\n",
    "    num_rows = (num_plots + num_cols - 1) // num_cols\n",
    "    \n",
    "    fig, axes = plt.subplots(num_rows, num_cols, figsize=(6 * num_cols, 6 * num_rows))\n",
    "    \n",
    "    axes = axes.flatten() if num_rows > 1 else [axes]\n",
    "    \n",
    "    for i, (points, label) in enumerate(zip(points_list, labels)):\n",
    "        axes[i].scatter(points[:, 0], points[:, 1], s=1, c='blue', label=label)\n",
    "        axes[i].set_title(label)\n",
    "        axes[i].set_xlabel('X')\n",
    "        axes[i].set_ylabel('Y')\n",
    "        axes[i].legend()\n",
    "    \n",
    "    for j in range(num_plots, num_rows * num_cols):\n",
    "        fig.delaxes(axes[j])\n",
    "    \n",
    "    plt.suptitle(title, fontsize=16)\n",
    "    plt.tight_layout(rect=[0, 0.03, 1, 0.95])  # Adjust layout\n",
    "    plt.show()"
   ],
   "metadata": {
    "collapsed": false,
    "ExecuteTime": {
     "end_time": "2024-10-24T13:24:52.207190912Z",
     "start_time": "2024-10-24T13:24:51.843702950Z"
    }
   },
   "id": "2cc74f7bdb2c13f"
  },
  {
   "cell_type": "code",
   "execution_count": 6,
   "outputs": [],
   "source": [
    "labels = ['Points A', 'Points B', 'Points C', 'Points D']\n",
    "points_list = [points_a, points_b, points_c, points_d]"
   ],
   "metadata": {
    "collapsed": false,
    "ExecuteTime": {
     "end_time": "2024-10-24T13:24:52.220129357Z",
     "start_time": "2024-10-24T13:24:52.209305004Z"
    }
   },
   "id": "8803df3feae783b6"
  },
  {
   "cell_type": "markdown",
   "source": [
    "### Default precision type"
   ],
   "metadata": {
    "collapsed": false
   },
   "id": "fa67653ad25a6954"
  },
  {
   "cell_type": "code",
   "execution_count": 7,
   "outputs": [
    {
     "name": "stdout",
     "output_type": "stream",
     "text": [
      "float64\n",
      "float64\n",
      "float64\n",
      "float64\n"
     ]
    }
   ],
   "source": [
    "for points in points_list:\n",
    "    print(points.dtype)"
   ],
   "metadata": {
    "collapsed": false,
    "ExecuteTime": {
     "end_time": "2024-10-24T13:24:52.222062086Z",
     "start_time": "2024-10-24T13:24:52.211247992Z"
    }
   },
   "id": "9daba744457cc5ea"
  },
  {
   "cell_type": "code",
   "execution_count": null,
   "outputs": [],
   "source": [
    "plot_points(points_list, labels, title='Visualisation of points')"
   ],
   "metadata": {
    "collapsed": false,
    "is_executing": true,
    "ExecuteTime": {
     "start_time": "2024-10-24T13:24:52.214065427Z"
    }
   },
   "id": "aaf26afcc4187591"
  },
  {
   "cell_type": "code",
   "execution_count": null,
   "outputs": [],
   "source": [
    "def det3x3(point_a, point_b, point_c):\n",
    "    det = point_a[0] * point_b[0] * 1\n",
    "    det += point_a[1] * 1 * point_c[0]\n",
    "    det += 1 * point_b[0] * point_c[1]\n",
    "    det -= 1 * point_b[1] * point_c[0]\n",
    "    det -= 1 * point_c[1] * point_a[0]\n",
    "    det -= 1 * point_a[1] * point_b[0]\n",
    "    return det\n",
    "\n",
    "def det2x2(point_a, point_b, point_c):\n",
    "    det = (point_a[0] - point_c[0]) * (point_b[1] - point_c[1])\n",
    "    det -= (point_a[1] - point_c[1]) * (point_b[0] - point_c[0])\n",
    "    return det\n",
    "\n",
    "def det3x3_numpy(point_a, point_b, point_c):\n",
    "    mat = np.array([np.hstack((point_a, 1)), \n",
    "                    np.hstack((point_b, 1)), \n",
    "                    np.hstack((point_c, 1))])\n",
    "    return np.linalg.det(mat)\n",
    "\n",
    "def det2x2_numpy(point_a, point_b, point_c):\n",
    "    mat = np.array([(point_a[0] - point_c[0], point_a[1] - point_c[1]), \n",
    "                    (point_b[0]-point_c[0], point_b[1] - point_c[1])])\n",
    "    return np.linalg.det(mat)"
   ],
   "metadata": {
    "collapsed": false,
    "is_executing": true
   },
   "id": "8dcaac39dd01f92"
  },
  {
   "cell_type": "code",
   "execution_count": null,
   "outputs": [],
   "source": [
    "def classify_points(point_a, point_b, points, epsilon, det_fn):\n",
    "    points_left = []\n",
    "    points_collinear = []\n",
    "    points_right = []\n",
    "    for point in points:\n",
    "        det = det_fn(point_a, point_b, point)\n",
    "        if det >= -epsilon and det <= epsilon:\n",
    "            points_collinear.append(point)\n",
    "        elif det > epsilon:\n",
    "            points_left.append(point)\n",
    "        else:\n",
    "            points_right.append(point)        \n",
    "    points_left = np.array(points_left)\n",
    "    points_collinear = np.array(points_collinear)\n",
    "    points_right = np.array(points_right)\n",
    "    return points_left, points_collinear, points_right"
   ],
   "metadata": {
    "collapsed": false,
    "is_executing": true
   },
   "id": "cadf08e6cd04458e"
  },
  {
   "cell_type": "code",
   "execution_count": null,
   "outputs": [],
   "source": [
    "def draw_all(point_a, point_b, points, epsilons, det_fns, title, collinear_size):\n",
    "    num_epsilons = len(epsilons)\n",
    "    num_det_fns = len(det_fns)\n",
    "    fig, axes = plt.subplots(num_epsilons, num_det_fns, \n",
    "                             figsize=(6 * num_det_fns, 6 * num_epsilons))\n",
    "    axes = np.atleast_2d(axes)\n",
    "    for i, epsilon in enumerate(epsilons):\n",
    "        for j, det_fn in enumerate(det_fns):\n",
    "            ax = axes[i, j]\n",
    "\n",
    "            points_left, points_collinear, points_right = classify_points(point_a, point_b, \n",
    "                                                                          points, epsilon, det_fn)\n",
    "\n",
    "            if len(points_left) > 0:\n",
    "                ax.scatter(points_left[:, 0], points_left[:, 1], s=1, c='blue', \n",
    "                           label='On the left side')\n",
    "            if len(points_collinear) > 0:\n",
    "                ax.scatter(points_collinear[:, 0], points_collinear[:, 1], s=collinear_size,\n",
    "                           c='green', label='Collinear')\n",
    "            if len(points_right) > 0:\n",
    "                ax.scatter(points_right[:, 0], points_right[:, 1], s=1, c='red', \n",
    "                           label='On the right side')\n",
    "            \n",
    "            ax.set_title(f\"{title}\\nEpsilon: {epsilon}, Det fn: {det_fn.__name__}\")\n",
    "            ax.set_xlabel('X')\n",
    "            ax.set_ylabel('Y')\n",
    "    \n",
    "    plt.tight_layout()\n",
    "    \n",
    "    plt.suptitle(title, y=1.02, fontsize=16)\n",
    "    plt.show()"
   ],
   "metadata": {
    "collapsed": false,
    "is_executing": true
   },
   "id": "8a36d279a516ef71"
  },
  {
   "cell_type": "code",
   "execution_count": null,
   "outputs": [],
   "source": [
    "point_a = np.array([-1.0, 0.0])\n",
    "point_b = np.array([1.0, 0.1])"
   ],
   "metadata": {
    "collapsed": false,
    "is_executing": true
   },
   "id": "147a45a07b0d3e1a"
  },
  {
   "cell_type": "code",
   "execution_count": null,
   "outputs": [],
   "source": [
    "epsilons = [0, 10**(-14), 10**(-12), 10**(-10), 10**(-8)]\n",
    "det_fns = [det3x3, det2x2, det3x3_numpy, det2x2_numpy]"
   ],
   "metadata": {
    "collapsed": false,
    "is_executing": true
   },
   "id": "6b8d0014634e8cac"
  },
  {
   "cell_type": "markdown",
   "source": [
    "# Classification for points a"
   ],
   "metadata": {
    "collapsed": false
   },
   "id": "efcb7941cd87d9d7"
  },
  {
   "cell_type": "code",
   "execution_count": null,
   "outputs": [],
   "source": [
    "draw_all(point_a, point_b, points_a, epsilons=epsilons, det_fns=det_fns, \n",
    "         title=\"Points a classification\", collinear_size=50)"
   ],
   "metadata": {
    "collapsed": false,
    "is_executing": true
   },
   "id": "7ef2a3e884062e80"
  },
  {
   "cell_type": "markdown",
   "source": [
    "# Classification for points b"
   ],
   "metadata": {
    "collapsed": false
   },
   "id": "c322dc6511431e1e"
  },
  {
   "cell_type": "code",
   "execution_count": null,
   "outputs": [],
   "source": [
    "draw_all(point_a, point_b, points_b, epsilons=epsilons, det_fns=det_fns, \n",
    "         title=\"Points a classification\", collinear_size=50)"
   ],
   "metadata": {
    "collapsed": false,
    "is_executing": true
   },
   "id": "ce957fd0a5e013c4"
  },
  {
   "cell_type": "markdown",
   "source": [
    "# Classification for points c"
   ],
   "metadata": {
    "collapsed": false
   },
   "id": "7ee08d0e69d4d493"
  },
  {
   "cell_type": "code",
   "execution_count": null,
   "outputs": [],
   "source": [
    "draw_all(point_a, point_b, points_c, epsilons=epsilons, det_fns=det_fns, \n",
    "         title=\"Points a classification\", collinear_size=200)"
   ],
   "metadata": {
    "collapsed": false,
    "is_executing": true
   },
   "id": "843a1504e6e37ae1"
  },
  {
   "cell_type": "markdown",
   "source": [
    "# Classification for points d"
   ],
   "metadata": {
    "collapsed": false
   },
   "id": "b95ee204e8515195"
  },
  {
   "cell_type": "code",
   "execution_count": null,
   "outputs": [],
   "source": [
    "draw_all(point_a, point_b, points_d, epsilons=epsilons, det_fns=det_fns, \n",
    "         title=\"Points a classification\", collinear_size=1)"
   ],
   "metadata": {
    "collapsed": false,
    "is_executing": true
   },
   "id": "68762550726de507"
  },
  {
   "cell_type": "markdown",
   "source": [
    "# Now let's change precision to float32"
   ],
   "metadata": {
    "collapsed": false
   },
   "id": "b05904af1b0832ff"
  },
  {
   "cell_type": "markdown",
   "source": [
    "# Classification for points a"
   ],
   "metadata": {
    "collapsed": false
   },
   "id": "a94cecb6ba002e0a"
  },
  {
   "cell_type": "code",
   "execution_count": null,
   "outputs": [],
   "source": [
    "points_af32 = points_a.astype(np.float32)\n",
    "draw_all(point_a, point_b, points_af32, epsilons=epsilons, det_fns=det_fns, \n",
    "         title=\"Points a classification\", collinear_size=50)"
   ],
   "metadata": {
    "collapsed": false,
    "is_executing": true
   },
   "id": "2f89817370cf34b4"
  },
  {
   "cell_type": "markdown",
   "source": [
    "# Classification for points b"
   ],
   "metadata": {
    "collapsed": false
   },
   "id": "fa596eca98165314"
  },
  {
   "cell_type": "code",
   "execution_count": null,
   "outputs": [],
   "source": [
    "points_bf32 = points_b.astype(np.float32)\n",
    "draw_all(point_a, point_b, points_bf32, epsilons=epsilons, det_fns=det_fns, \n",
    "         title=\"Points a classification\", collinear_size=50)"
   ],
   "metadata": {
    "collapsed": false,
    "is_executing": true
   },
   "id": "46e4cc6065e9248a"
  },
  {
   "cell_type": "markdown",
   "source": [
    "# Classification for points c"
   ],
   "metadata": {
    "collapsed": false
   },
   "id": "194ce6de9b564520"
  },
  {
   "cell_type": "code",
   "execution_count": null,
   "outputs": [],
   "source": [
    "points_cf32 = points_c.astype(np.float32)\n",
    "draw_all(point_a, point_b, points_c, epsilons=epsilons, det_fns=det_fns, \n",
    "         title=\"Points a classification\", collinear_size=200)"
   ],
   "metadata": {
    "collapsed": false,
    "is_executing": true
   },
   "id": "3b4a386e7780bda3"
  },
  {
   "cell_type": "markdown",
   "source": [
    "# Classification for points d"
   ],
   "metadata": {
    "collapsed": false
   },
   "id": "13b255eb4da5d9b0"
  },
  {
   "cell_type": "code",
   "execution_count": null,
   "outputs": [],
   "source": [
    "points_df32 = points_d.astype(np.float32)\n",
    "draw_all(point_a, point_b, points_d, epsilons=epsilons, det_fns=det_fns, \n",
    "         title=\"Points a classification\", collinear_size=1)"
   ],
   "metadata": {
    "collapsed": false,
    "is_executing": true
   },
   "id": "c29e32ec1c702eb"
  }
 ],
 "metadata": {
  "kernelspec": {
   "display_name": "Python 3",
   "language": "python",
   "name": "python3"
  },
  "language_info": {
   "codemirror_mode": {
    "name": "ipython",
    "version": 2
   },
   "file_extension": ".py",
   "mimetype": "text/x-python",
   "name": "python",
   "nbconvert_exporter": "python",
   "pygments_lexer": "ipython2",
   "version": "2.7.6"
  }
 },
 "nbformat": 4,
 "nbformat_minor": 5
}
